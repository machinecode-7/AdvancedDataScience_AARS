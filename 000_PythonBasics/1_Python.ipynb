{
 "cells": [
  {
   "cell_type": "markdown",
   "id": "42327fda",
   "metadata": {},
   "source": [
    "### Data-Types"
   ]
  },
  {
   "cell_type": "code",
   "execution_count": 1,
   "id": "088d3fae",
   "metadata": {},
   "outputs": [
    {
     "data": {
      "text/plain": [
       "int"
      ]
     },
     "execution_count": 1,
     "metadata": {},
     "output_type": "execute_result"
    }
   ],
   "source": [
    "type(5)"
   ]
  },
  {
   "cell_type": "code",
   "execution_count": 2,
   "id": "1de74910",
   "metadata": {},
   "outputs": [
    {
     "data": {
      "text/plain": [
       "float"
      ]
     },
     "execution_count": 2,
     "metadata": {},
     "output_type": "execute_result"
    }
   ],
   "source": [
    "type(5.0)"
   ]
  },
  {
   "cell_type": "code",
   "execution_count": 3,
   "id": "ed5917ee",
   "metadata": {},
   "outputs": [
    {
     "data": {
      "text/plain": [
       "str"
      ]
     },
     "execution_count": 3,
     "metadata": {},
     "output_type": "execute_result"
    }
   ],
   "source": [
    "type('5')"
   ]
  },
  {
   "cell_type": "code",
   "execution_count": 4,
   "id": "ec1adaa1",
   "metadata": {},
   "outputs": [
    {
     "data": {
      "text/plain": [
       "bool"
      ]
     },
     "execution_count": 4,
     "metadata": {},
     "output_type": "execute_result"
    }
   ],
   "source": [
    "type(True)"
   ]
  },
  {
   "cell_type": "code",
   "execution_count": 5,
   "id": "f97cbfb4",
   "metadata": {},
   "outputs": [
    {
     "name": "stdout",
     "output_type": "stream",
     "text": [
      "Hi guys\n"
     ]
    }
   ],
   "source": [
    "print('Hi guys')"
   ]
  },
  {
   "cell_type": "code",
   "execution_count": 6,
   "id": "9a4553b4",
   "metadata": {},
   "outputs": [
    {
     "name": "stdout",
     "output_type": "stream",
     "text": [
      "Tell me your age56\n"
     ]
    },
    {
     "data": {
      "text/plain": [
       "'56'"
      ]
     },
     "execution_count": 6,
     "metadata": {},
     "output_type": "execute_result"
    }
   ],
   "source": [
    "input('Tell me your age')"
   ]
  },
  {
   "cell_type": "code",
   "execution_count": 7,
   "id": "eec0614a",
   "metadata": {},
   "outputs": [
    {
     "name": "stdout",
     "output_type": "stream",
     "text": [
      "Tell me your age56\n"
     ]
    },
    {
     "data": {
      "text/plain": [
       "56"
      ]
     },
     "execution_count": 7,
     "metadata": {},
     "output_type": "execute_result"
    }
   ],
   "source": [
    "int(input('Tell me your age'))"
   ]
  },
  {
   "cell_type": "code",
   "execution_count": 9,
   "id": "cac3e7d2",
   "metadata": {},
   "outputs": [
    {
     "data": {
      "text/plain": [
       "56"
      ]
     },
     "execution_count": 9,
     "metadata": {},
     "output_type": "execute_result"
    }
   ],
   "source": [
    "# float can be converted to an integer\n",
    "# but string cannot be converted to int.\n",
    "int(56.0)"
   ]
  },
  {
   "cell_type": "code",
   "execution_count": 10,
   "id": "e79b4e52",
   "metadata": {},
   "outputs": [
    {
     "ename": "ValueError",
     "evalue": "invalid literal for int() with base 10: '56.0'",
     "output_type": "error",
     "traceback": [
      "\u001b[1;31m---------------------------------------------------------------------------\u001b[0m",
      "\u001b[1;31mValueError\u001b[0m                                Traceback (most recent call last)",
      "Cell \u001b[1;32mIn[10], line 1\u001b[0m\n\u001b[1;32m----> 1\u001b[0m \u001b[38;5;28;43mint\u001b[39;49m\u001b[43m(\u001b[49m\u001b[38;5;124;43m'\u001b[39;49m\u001b[38;5;124;43m56.0\u001b[39;49m\u001b[38;5;124;43m'\u001b[39;49m\u001b[43m)\u001b[49m\n",
      "\u001b[1;31mValueError\u001b[0m: invalid literal for int() with base 10: '56.0'"
     ]
    }
   ],
   "source": [
    "int('56.0')"
   ]
  },
  {
   "cell_type": "code",
   "execution_count": 11,
   "id": "225b02bb",
   "metadata": {},
   "outputs": [
    {
     "data": {
      "text/plain": [
       "56"
      ]
     },
     "execution_count": 11,
     "metadata": {},
     "output_type": "execute_result"
    }
   ],
   "source": [
    "int(float('56.0'))"
   ]
  },
  {
   "cell_type": "markdown",
   "id": "a9f111e6",
   "metadata": {},
   "source": [
    "### Arithmetic Operations"
   ]
  },
  {
   "cell_type": "code",
   "execution_count": 12,
   "id": "e5626283",
   "metadata": {},
   "outputs": [
    {
     "data": {
      "text/plain": [
       "10"
      ]
     },
     "execution_count": 12,
     "metadata": {},
     "output_type": "execute_result"
    }
   ],
   "source": [
    "5+5"
   ]
  },
  {
   "cell_type": "code",
   "execution_count": 13,
   "id": "02df05e0",
   "metadata": {},
   "outputs": [
    {
     "data": {
      "text/plain": [
       "25"
      ]
     },
     "execution_count": 13,
     "metadata": {},
     "output_type": "execute_result"
    }
   ],
   "source": [
    "5*5"
   ]
  },
  {
   "cell_type": "code",
   "execution_count": 18,
   "id": "d3a26db4",
   "metadata": {},
   "outputs": [
    {
     "data": {
      "text/plain": [
       "3125"
      ]
     },
     "execution_count": 18,
     "metadata": {},
     "output_type": "execute_result"
    }
   ],
   "source": [
    "5 ** 5"
   ]
  },
  {
   "cell_type": "code",
   "execution_count": 19,
   "id": "9393c095",
   "metadata": {},
   "outputs": [
    {
     "data": {
      "text/plain": [
       "1.0"
      ]
     },
     "execution_count": 19,
     "metadata": {},
     "output_type": "execute_result"
    }
   ],
   "source": [
    "5/5"
   ]
  },
  {
   "cell_type": "code",
   "execution_count": 20,
   "id": "61b8a6e4",
   "metadata": {},
   "outputs": [
    {
     "data": {
      "text/plain": [
       "1"
      ]
     },
     "execution_count": 20,
     "metadata": {},
     "output_type": "execute_result"
    }
   ],
   "source": [
    "5//5"
   ]
  },
  {
   "cell_type": "code",
   "execution_count": 21,
   "id": "aaabdcda",
   "metadata": {},
   "outputs": [
    {
     "data": {
      "text/plain": [
       "2.5"
      ]
     },
     "execution_count": 21,
     "metadata": {},
     "output_type": "execute_result"
    }
   ],
   "source": [
    "5/2"
   ]
  },
  {
   "cell_type": "code",
   "execution_count": 22,
   "id": "71c9f33b",
   "metadata": {},
   "outputs": [
    {
     "data": {
      "text/plain": [
       "2"
      ]
     },
     "execution_count": 22,
     "metadata": {},
     "output_type": "execute_result"
    }
   ],
   "source": [
    "5//2"
   ]
  },
  {
   "cell_type": "code",
   "execution_count": 24,
   "id": "45796227",
   "metadata": {},
   "outputs": [
    {
     "data": {
      "text/plain": [
       "2"
      ]
     },
     "execution_count": 24,
     "metadata": {},
     "output_type": "execute_result"
    }
   ],
   "source": [
    "5%3"
   ]
  },
  {
   "cell_type": "markdown",
   "id": "ace45698",
   "metadata": {},
   "source": [
    "### Variables"
   ]
  },
  {
   "cell_type": "code",
   "execution_count": 30,
   "id": "61a8b793",
   "metadata": {},
   "outputs": [
    {
     "name": "stdout",
     "output_type": "stream",
     "text": [
      "What's your age?40\n"
     ]
    }
   ],
   "source": [
    "age = int(input(\"What's your age?\"))"
   ]
  },
  {
   "cell_type": "code",
   "execution_count": 31,
   "id": "b4c62159",
   "metadata": {},
   "outputs": [
    {
     "data": {
      "text/plain": [
       "int"
      ]
     },
     "execution_count": 31,
     "metadata": {},
     "output_type": "execute_result"
    }
   ],
   "source": [
    "type(age)"
   ]
  },
  {
   "cell_type": "code",
   "execution_count": 32,
   "id": "f74e9648",
   "metadata": {},
   "outputs": [
    {
     "data": {
      "text/plain": [
       "40"
      ]
     },
     "execution_count": 32,
     "metadata": {},
     "output_type": "execute_result"
    }
   ],
   "source": [
    "age"
   ]
  },
  {
   "cell_type": "markdown",
   "id": "3572f713",
   "metadata": {},
   "source": [
    "### Lists"
   ]
  },
  {
   "cell_type": "code",
   "execution_count": 36,
   "id": "1942b371",
   "metadata": {},
   "outputs": [],
   "source": [
    "my_list = [30,40,400,4000, 'Miral','Smit', True, 56.0]"
   ]
  },
  {
   "cell_type": "code",
   "execution_count": 37,
   "id": "b00e9456",
   "metadata": {},
   "outputs": [
    {
     "data": {
      "text/plain": [
       "list"
      ]
     },
     "execution_count": 37,
     "metadata": {},
     "output_type": "execute_result"
    }
   ],
   "source": [
    "type(my_list)"
   ]
  },
  {
   "cell_type": "code",
   "execution_count": 38,
   "id": "349561d0",
   "metadata": {},
   "outputs": [
    {
     "data": {
      "text/plain": [
       "[30, 40, 400, 4000, 'Miral', 'Smit', True, 56.0]"
      ]
     },
     "execution_count": 38,
     "metadata": {},
     "output_type": "execute_result"
    }
   ],
   "source": [
    "my_list"
   ]
  },
  {
   "cell_type": "code",
   "execution_count": 39,
   "id": "a697f5c6",
   "metadata": {},
   "outputs": [],
   "source": [
    "my_list = [30,40,400,4000, 'Miral','Smit', True, 56.0, ['a','b','c']]"
   ]
  },
  {
   "cell_type": "code",
   "execution_count": 40,
   "id": "efde4c2a",
   "metadata": {},
   "outputs": [
    {
     "data": {
      "text/plain": [
       "[30, 40, 400, 4000, 'Miral', 'Smit', True, 56.0, ['a', 'b', 'c']]"
      ]
     },
     "execution_count": 40,
     "metadata": {},
     "output_type": "execute_result"
    }
   ],
   "source": [
    "my_list"
   ]
  },
  {
   "cell_type": "code",
   "execution_count": null,
   "id": "fb47fcbd",
   "metadata": {},
   "outputs": [],
   "source": []
  },
  {
   "cell_type": "markdown",
   "id": "fdf86362",
   "metadata": {},
   "source": [
    "### If-conditions"
   ]
  },
  {
   "cell_type": "code",
   "execution_count": 41,
   "id": "3027f225",
   "metadata": {},
   "outputs": [
    {
     "name": "stdout",
     "output_type": "stream",
     "text": [
      "Whats your age?56\n"
     ]
    }
   ],
   "source": [
    "age = int(input('Whats your age?'))"
   ]
  },
  {
   "cell_type": "code",
   "execution_count": 42,
   "id": "6c0b5d94",
   "metadata": {},
   "outputs": [
    {
     "data": {
      "text/plain": [
       "56"
      ]
     },
     "execution_count": 42,
     "metadata": {},
     "output_type": "execute_result"
    }
   ],
   "source": [
    "age"
   ]
  },
  {
   "cell_type": "code",
   "execution_count": 43,
   "id": "671e9ca7",
   "metadata": {},
   "outputs": [],
   "source": [
    "ticket = 20"
   ]
  },
  {
   "cell_type": "code",
   "execution_count": 44,
   "id": "ae145629",
   "metadata": {},
   "outputs": [],
   "source": [
    "if age>50:\n",
    "    ticket = 10"
   ]
  },
  {
   "cell_type": "code",
   "execution_count": 45,
   "id": "f8fead27",
   "metadata": {},
   "outputs": [
    {
     "data": {
      "text/plain": [
       "10"
      ]
     },
     "execution_count": 45,
     "metadata": {},
     "output_type": "execute_result"
    }
   ],
   "source": [
    "ticket"
   ]
  },
  {
   "cell_type": "markdown",
   "id": "b52612f6",
   "metadata": {},
   "source": [
    "##### Sample Code"
   ]
  },
  {
   "cell_type": "code",
   "execution_count": 49,
   "id": "79174b95",
   "metadata": {},
   "outputs": [
    {
     "name": "stdout",
     "output_type": "stream",
     "text": [
      "Whats your age?60\n",
      "I am inside IF condition\n",
      "10\n"
     ]
    }
   ],
   "source": [
    "age = int(input('Whats your age?'))\n",
    "\n",
    "ticket = 20\n",
    "\n",
    "if age>50:\n",
    "    ticket = 10\n",
    "    print('I am inside IF condition')\n",
    "\n",
    "print(ticket)"
   ]
  },
  {
   "cell_type": "code",
   "execution_count": 55,
   "id": "e75b471b",
   "metadata": {},
   "outputs": [
    {
     "name": "stdout",
     "output_type": "stream",
     "text": [
      "Whats your age?36\n",
      "I am inside else condition\n",
      "20\n"
     ]
    }
   ],
   "source": [
    "age = int(input('Whats your age?'))\n",
    "\n",
    "#senior citizen\n",
    "if age>50:\n",
    "    ticket = 10\n",
    "    print('I am inside IF condition-1')\n",
    "else:\n",
    "    ticket=20\n",
    "    print('I am inside else condition')\n",
    "\n",
    "print(ticket)"
   ]
  },
  {
   "cell_type": "code",
   "execution_count": 52,
   "id": "1ea0c434",
   "metadata": {},
   "outputs": [
    {
     "name": "stdout",
     "output_type": "stream",
     "text": [
      "Whats your age?7\n",
      "price: 5\n",
      "I am inside IF condition-2\n",
      "5\n"
     ]
    }
   ],
   "source": [
    "age = int(input('Whats your age?'))\n",
    "\n",
    "ticket = 20\n",
    "\n",
    "#senior citizen\n",
    "if age>50:\n",
    "    ticket = 10\n",
    "    print('I am inside IF condition-1')\n",
    "if age<12:\n",
    "    ticket = 5\n",
    "    print('price:',ticket)\n",
    "    print('I am inside IF condition-2')\n",
    "\n",
    "print(ticket)"
   ]
  },
  {
   "cell_type": "code",
   "execution_count": 58,
   "id": "dbbf8b8e",
   "metadata": {},
   "outputs": [
    {
     "name": "stdout",
     "output_type": "stream",
     "text": [
      "Whats your age?16\n",
      "20\n"
     ]
    }
   ],
   "source": [
    "age = int(input('Whats your age?'))\n",
    "\n",
    "\n",
    "#senior citizen\n",
    "if age>50:\n",
    "    ticket = 10\n",
    "    print('I am inside IF condition-1')\n",
    "elif age<12:\n",
    "    # kids\n",
    "    ticket = 5\n",
    "    print('price:',ticket)\n",
    "    print('I am inside IF condition-2')\n",
    "else:\n",
    "    #adults\n",
    "    ticket = 20\n",
    "\n",
    "print(ticket)"
   ]
  },
  {
   "cell_type": "markdown",
   "id": "d5676ab1",
   "metadata": {},
   "source": [
    "#### For Loops"
   ]
  },
  {
   "cell_type": "code",
   "execution_count": 62,
   "id": "7b36144d",
   "metadata": {},
   "outputs": [],
   "source": [
    "my_list = ['a','b','c',1,2,3]"
   ]
  },
  {
   "cell_type": "code",
   "execution_count": 63,
   "id": "96bc3772",
   "metadata": {},
   "outputs": [
    {
     "data": {
      "text/plain": [
       "['a', 'b', 'c', 1, 2, 3]"
      ]
     },
     "execution_count": 63,
     "metadata": {},
     "output_type": "execute_result"
    }
   ],
   "source": [
    "my_list"
   ]
  },
  {
   "cell_type": "code",
   "execution_count": 68,
   "id": "029c06b6",
   "metadata": {},
   "outputs": [
    {
     "name": "stdout",
     "output_type": "stream",
     "text": [
      "a\n",
      "b\n",
      "c\n",
      "1\n",
      "2\n",
      "3\n"
     ]
    }
   ],
   "source": [
    "for element in my_list:\n",
    "    print(element)"
   ]
  },
  {
   "cell_type": "markdown",
   "id": "82f9fda7",
   "metadata": {},
   "source": [
    "### For Loop - IF condition Combo"
   ]
  },
  {
   "cell_type": "code",
   "execution_count": 69,
   "id": "c32e055b",
   "metadata": {},
   "outputs": [],
   "source": [
    "passengers = [10,20,30,40,50,60]"
   ]
  },
  {
   "cell_type": "code",
   "execution_count": 72,
   "id": "b2145847",
   "metadata": {},
   "outputs": [
    {
     "name": "stdout",
     "output_type": "stream",
     "text": [
      "5\n",
      "20\n",
      "20\n",
      "20\n",
      "20\n",
      "10\n"
     ]
    }
   ],
   "source": [
    "for age in passengers:\n",
    "    if age>50:\n",
    "        #senior citizen\n",
    "        ticket = 10\n",
    "    elif age<12:\n",
    "        # kids\n",
    "        ticket = 5\n",
    "    else:\n",
    "        #adults\n",
    "        ticket = 20\n",
    "\n",
    "    print(ticket)"
   ]
  },
  {
   "cell_type": "code",
   "execution_count": 73,
   "id": "025b66d1",
   "metadata": {},
   "outputs": [
    {
     "data": {
      "text/plain": [
       "10"
      ]
     },
     "execution_count": 73,
     "metadata": {},
     "output_type": "execute_result"
    }
   ],
   "source": [
    "passengers[0]"
   ]
  },
  {
   "cell_type": "code",
   "execution_count": 74,
   "id": "433cb65d",
   "metadata": {},
   "outputs": [
    {
     "data": {
      "text/plain": [
       "20"
      ]
     },
     "execution_count": 74,
     "metadata": {},
     "output_type": "execute_result"
    }
   ],
   "source": [
    "passengers[1]"
   ]
  },
  {
   "cell_type": "code",
   "execution_count": 75,
   "id": "d9080fa3",
   "metadata": {},
   "outputs": [
    {
     "data": {
      "text/plain": [
       "60"
      ]
     },
     "execution_count": 75,
     "metadata": {},
     "output_type": "execute_result"
    }
   ],
   "source": [
    "passengers[-1]"
   ]
  },
  {
   "cell_type": "code",
   "execution_count": null,
   "id": "6459d16f",
   "metadata": {},
   "outputs": [],
   "source": [
    "#list[start_index:end_index+1]"
   ]
  },
  {
   "cell_type": "code",
   "execution_count": 76,
   "id": "b5414cc3",
   "metadata": {},
   "outputs": [
    {
     "data": {
      "text/plain": [
       "[10, 20]"
      ]
     },
     "execution_count": 76,
     "metadata": {},
     "output_type": "execute_result"
    }
   ],
   "source": [
    "passengers[0:2]"
   ]
  },
  {
   "cell_type": "code",
   "execution_count": 77,
   "id": "2ecef104",
   "metadata": {},
   "outputs": [
    {
     "data": {
      "text/plain": [
       "[10, 20, 30, 40]"
      ]
     },
     "execution_count": 77,
     "metadata": {},
     "output_type": "execute_result"
    }
   ],
   "source": [
    "passengers[0:4]"
   ]
  },
  {
   "cell_type": "code",
   "execution_count": 79,
   "id": "3ff3fed8",
   "metadata": {},
   "outputs": [
    {
     "data": {
      "text/plain": [
       "[20, 30]"
      ]
     },
     "execution_count": 79,
     "metadata": {},
     "output_type": "execute_result"
    }
   ],
   "source": [
    "passengers[1:3]"
   ]
  },
  {
   "cell_type": "code",
   "execution_count": null,
   "id": "16706bed",
   "metadata": {},
   "outputs": [],
   "source": []
  }
 ],
 "metadata": {
  "kernelspec": {
   "display_name": "Python 3 (ipykernel)",
   "language": "python",
   "name": "python3"
  },
  "language_info": {
   "codemirror_mode": {
    "name": "ipython",
    "version": 3
   },
   "file_extension": ".py",
   "mimetype": "text/x-python",
   "name": "python",
   "nbconvert_exporter": "python",
   "pygments_lexer": "ipython3",
   "version": "3.10.8"
  }
 },
 "nbformat": 4,
 "nbformat_minor": 5
}
