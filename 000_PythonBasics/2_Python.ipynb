{
 "cells": [
  {
   "cell_type": "code",
   "execution_count": 1,
   "id": "a3ef5dcc",
   "metadata": {},
   "outputs": [],
   "source": [
    "#List\n",
    "\n",
    "#Ordered (There are indexes, which help us to access list elements)\n",
    "num = [10,20,30,40]"
   ]
  },
  {
   "cell_type": "code",
   "execution_count": 2,
   "id": "574b9d90",
   "metadata": {},
   "outputs": [
    {
     "data": {
      "text/plain": [
       "30"
      ]
     },
     "execution_count": 2,
     "metadata": {},
     "output_type": "execute_result"
    }
   ],
   "source": [
    "num[2]"
   ]
  },
  {
   "cell_type": "code",
   "execution_count": 3,
   "id": "50c1ce1a",
   "metadata": {},
   "outputs": [],
   "source": [
    "# Changeable\n",
    "num[2] =100"
   ]
  },
  {
   "cell_type": "code",
   "execution_count": 24,
   "id": "5698421a",
   "metadata": {},
   "outputs": [],
   "source": [
    "# Slicing"
   ]
  },
  {
   "cell_type": "code",
   "execution_count": 4,
   "id": "53d67629",
   "metadata": {},
   "outputs": [
    {
     "data": {
      "text/plain": [
       "[10, 20, 100, 40]"
      ]
     },
     "execution_count": 4,
     "metadata": {},
     "output_type": "execute_result"
    }
   ],
   "source": [
    "num"
   ]
  },
  {
   "cell_type": "code",
   "execution_count": 7,
   "id": "6b4e8cf3",
   "metadata": {},
   "outputs": [],
   "source": [
    "#Allows duplicates value\n",
    "num.append(50)"
   ]
  },
  {
   "cell_type": "code",
   "execution_count": 8,
   "id": "01bb3b02",
   "metadata": {},
   "outputs": [
    {
     "data": {
      "text/plain": [
       "[10, 20, 100, 40, 50, 50]"
      ]
     },
     "execution_count": 8,
     "metadata": {},
     "output_type": "execute_result"
    }
   ],
   "source": [
    "num"
   ]
  },
  {
   "cell_type": "code",
   "execution_count": 9,
   "id": "041366f7",
   "metadata": {},
   "outputs": [
    {
     "data": {
      "text/plain": [
       "6"
      ]
     },
     "execution_count": 9,
     "metadata": {},
     "output_type": "execute_result"
    }
   ],
   "source": [
    "#length of the list\n",
    "len(num)"
   ]
  },
  {
   "cell_type": "code",
   "execution_count": 10,
   "id": "865470db",
   "metadata": {},
   "outputs": [
    {
     "data": {
      "text/plain": [
       "50"
      ]
     },
     "execution_count": 10,
     "metadata": {},
     "output_type": "execute_result"
    }
   ],
   "source": [
    "num[-1]"
   ]
  },
  {
   "cell_type": "code",
   "execution_count": 11,
   "id": "a8d41ef8",
   "metadata": {},
   "outputs": [
    {
     "data": {
      "text/plain": [
       "40"
      ]
     },
     "execution_count": 11,
     "metadata": {},
     "output_type": "execute_result"
    }
   ],
   "source": [
    "num[-3]"
   ]
  },
  {
   "cell_type": "code",
   "execution_count": 12,
   "id": "a2093046",
   "metadata": {},
   "outputs": [
    {
     "data": {
      "text/plain": [
       "100"
      ]
     },
     "execution_count": 12,
     "metadata": {},
     "output_type": "execute_result"
    }
   ],
   "source": [
    "num[-4]"
   ]
  },
  {
   "cell_type": "code",
   "execution_count": 13,
   "id": "efb229ca",
   "metadata": {},
   "outputs": [
    {
     "data": {
      "text/plain": [
       "100"
      ]
     },
     "execution_count": 13,
     "metadata": {},
     "output_type": "execute_result"
    }
   ],
   "source": [
    "num[2]"
   ]
  },
  {
   "cell_type": "code",
   "execution_count": 17,
   "id": "dd4dad70",
   "metadata": {},
   "outputs": [
    {
     "data": {
      "text/plain": [
       "[10, 20, 100, 40, 50]"
      ]
     },
     "execution_count": 17,
     "metadata": {},
     "output_type": "execute_result"
    }
   ],
   "source": [
    "num[:-1]"
   ]
  },
  {
   "cell_type": "code",
   "execution_count": 18,
   "id": "db6918c4",
   "metadata": {},
   "outputs": [
    {
     "data": {
      "text/plain": [
       "[10, 20]"
      ]
     },
     "execution_count": 18,
     "metadata": {},
     "output_type": "execute_result"
    }
   ],
   "source": [
    "num[0:2]"
   ]
  },
  {
   "cell_type": "code",
   "execution_count": 19,
   "id": "6a8098da",
   "metadata": {},
   "outputs": [
    {
     "data": {
      "text/plain": [
       "[50, 50]"
      ]
     },
     "execution_count": 19,
     "metadata": {},
     "output_type": "execute_result"
    }
   ],
   "source": [
    "num[-2:]"
   ]
  },
  {
   "cell_type": "code",
   "execution_count": 23,
   "id": "0e242eb7",
   "metadata": {},
   "outputs": [
    {
     "data": {
      "text/plain": [
       "[50, 50]"
      ]
     },
     "execution_count": 23,
     "metadata": {},
     "output_type": "execute_result"
    }
   ],
   "source": [
    "num[4:]"
   ]
  },
  {
   "cell_type": "code",
   "execution_count": 25,
   "id": "c649a1a9",
   "metadata": {},
   "outputs": [],
   "source": [
    "#helping functions"
   ]
  },
  {
   "cell_type": "code",
   "execution_count": 26,
   "id": "eb9271ce",
   "metadata": {},
   "outputs": [
    {
     "data": {
      "text/plain": [
       "[10, 20, 100, 40, 50, 50]"
      ]
     },
     "execution_count": 26,
     "metadata": {},
     "output_type": "execute_result"
    }
   ],
   "source": [
    "num"
   ]
  },
  {
   "cell_type": "code",
   "execution_count": 27,
   "id": "0da927b6",
   "metadata": {},
   "outputs": [],
   "source": [
    "num.insert(2,30)"
   ]
  },
  {
   "cell_type": "code",
   "execution_count": 28,
   "id": "8e8cb004",
   "metadata": {},
   "outputs": [
    {
     "data": {
      "text/plain": [
       "[10, 20, 30, 100, 40, 50, 50]"
      ]
     },
     "execution_count": 28,
     "metadata": {},
     "output_type": "execute_result"
    }
   ],
   "source": [
    "num"
   ]
  },
  {
   "cell_type": "code",
   "execution_count": 29,
   "id": "174b9800",
   "metadata": {},
   "outputs": [
    {
     "data": {
      "text/plain": [
       "[10, 20, 30, 100, 40, 50, 50, 1, 2, 3]"
      ]
     },
     "execution_count": 29,
     "metadata": {},
     "output_type": "execute_result"
    }
   ],
   "source": [
    "num + [1,2,3]"
   ]
  },
  {
   "cell_type": "code",
   "execution_count": 30,
   "id": "f43e9d26",
   "metadata": {},
   "outputs": [],
   "source": [
    "num.remove(100)"
   ]
  },
  {
   "cell_type": "code",
   "execution_count": 31,
   "id": "82d8da41",
   "metadata": {},
   "outputs": [
    {
     "data": {
      "text/plain": [
       "[10, 20, 30, 40, 50, 50]"
      ]
     },
     "execution_count": 31,
     "metadata": {},
     "output_type": "execute_result"
    }
   ],
   "source": [
    "num"
   ]
  },
  {
   "cell_type": "code",
   "execution_count": 32,
   "id": "f15e414c",
   "metadata": {},
   "outputs": [],
   "source": [
    "num.remove(50)"
   ]
  },
  {
   "cell_type": "code",
   "execution_count": 33,
   "id": "96dffa8e",
   "metadata": {},
   "outputs": [
    {
     "data": {
      "text/plain": [
       "[10, 20, 30, 40, 50]"
      ]
     },
     "execution_count": 33,
     "metadata": {},
     "output_type": "execute_result"
    }
   ],
   "source": [
    "num"
   ]
  },
  {
   "cell_type": "code",
   "execution_count": 34,
   "id": "3b7af616",
   "metadata": {},
   "outputs": [
    {
     "data": {
      "text/plain": [
       "50"
      ]
     },
     "execution_count": 34,
     "metadata": {},
     "output_type": "execute_result"
    }
   ],
   "source": [
    "num.pop()"
   ]
  },
  {
   "cell_type": "code",
   "execution_count": 35,
   "id": "26ce7f82",
   "metadata": {},
   "outputs": [
    {
     "data": {
      "text/plain": [
       "[10, 20, 30, 40]"
      ]
     },
     "execution_count": 35,
     "metadata": {},
     "output_type": "execute_result"
    }
   ],
   "source": [
    "num"
   ]
  },
  {
   "cell_type": "code",
   "execution_count": 36,
   "id": "358fc761",
   "metadata": {},
   "outputs": [],
   "source": [
    "num = [1,2,3,4,5,3,4,6]"
   ]
  },
  {
   "cell_type": "code",
   "execution_count": 37,
   "id": "aa20deb0",
   "metadata": {},
   "outputs": [],
   "source": [
    "num.remove(4)"
   ]
  },
  {
   "cell_type": "code",
   "execution_count": 38,
   "id": "78f3f22c",
   "metadata": {},
   "outputs": [
    {
     "data": {
      "text/plain": [
       "[1, 2, 3, 5, 3, 4, 6]"
      ]
     },
     "execution_count": 38,
     "metadata": {},
     "output_type": "execute_result"
    }
   ],
   "source": [
    "num"
   ]
  },
  {
   "cell_type": "code",
   "execution_count": 39,
   "id": "4d86610e",
   "metadata": {},
   "outputs": [
    {
     "data": {
      "text/plain": [
       "4"
      ]
     },
     "execution_count": 39,
     "metadata": {},
     "output_type": "execute_result"
    }
   ],
   "source": [
    "num.pop(-2)"
   ]
  },
  {
   "cell_type": "code",
   "execution_count": 40,
   "id": "f0ac6a1b",
   "metadata": {},
   "outputs": [
    {
     "data": {
      "text/plain": [
       "[1, 2, 3, 5, 3, 6]"
      ]
     },
     "execution_count": 40,
     "metadata": {},
     "output_type": "execute_result"
    }
   ],
   "source": [
    "num"
   ]
  },
  {
   "cell_type": "code",
   "execution_count": 48,
   "id": "004e2913",
   "metadata": {},
   "outputs": [],
   "source": [
    "num = [1,2,3,4,5,3,4,6]"
   ]
  },
  {
   "cell_type": "code",
   "execution_count": 49,
   "id": "8a9ce3e9",
   "metadata": {},
   "outputs": [],
   "source": [
    "num = num[::-1]"
   ]
  },
  {
   "cell_type": "code",
   "execution_count": 50,
   "id": "26bcc58b",
   "metadata": {},
   "outputs": [],
   "source": [
    "num.remove(4)"
   ]
  },
  {
   "cell_type": "code",
   "execution_count": 51,
   "id": "50c2700c",
   "metadata": {},
   "outputs": [
    {
     "data": {
      "text/plain": [
       "[6, 3, 5, 4, 3, 2, 1]"
      ]
     },
     "execution_count": 51,
     "metadata": {},
     "output_type": "execute_result"
    }
   ],
   "source": [
    "num"
   ]
  },
  {
   "cell_type": "code",
   "execution_count": 52,
   "id": "b0c77173",
   "metadata": {},
   "outputs": [
    {
     "data": {
      "text/plain": [
       "[1, 2, 3, 4, 5, 3, 6]"
      ]
     },
     "execution_count": 52,
     "metadata": {},
     "output_type": "execute_result"
    }
   ],
   "source": [
    "num[::-1]"
   ]
  },
  {
   "cell_type": "code",
   "execution_count": 53,
   "id": "d4b14802",
   "metadata": {},
   "outputs": [],
   "source": [
    "# List comprehension"
   ]
  },
  {
   "cell_type": "code",
   "execution_count": 54,
   "id": "116b9fb0",
   "metadata": {},
   "outputs": [
    {
     "data": {
      "text/plain": [
       "[6, 3, 5, 4, 3, 2, 1]"
      ]
     },
     "execution_count": 54,
     "metadata": {},
     "output_type": "execute_result"
    }
   ],
   "source": [
    "num"
   ]
  },
  {
   "cell_type": "code",
   "execution_count": 58,
   "id": "c4816f30",
   "metadata": {},
   "outputs": [],
   "source": [
    "num_squares = [element**2 for element in num]"
   ]
  },
  {
   "cell_type": "code",
   "execution_count": 56,
   "id": "bee870e3",
   "metadata": {},
   "outputs": [
    {
     "data": {
      "text/plain": [
       "[11, 8, 10, 9, 8, 7, 6]"
      ]
     },
     "execution_count": 56,
     "metadata": {},
     "output_type": "execute_result"
    }
   ],
   "source": [
    "[element+5 for element in num]"
   ]
  },
  {
   "cell_type": "code",
   "execution_count": 57,
   "id": "e475c1fc",
   "metadata": {},
   "outputs": [
    {
     "data": {
      "text/plain": [
       "[9, 9]"
      ]
     },
     "execution_count": 57,
     "metadata": {},
     "output_type": "execute_result"
    }
   ],
   "source": [
    "[element**2 for element in num if element==3]"
   ]
  },
  {
   "cell_type": "code",
   "execution_count": 59,
   "id": "14b5bf89",
   "metadata": {},
   "outputs": [
    {
     "data": {
      "text/plain": [
       "[36, 9, 25, 16, 9, 4, 1]"
      ]
     },
     "execution_count": 59,
     "metadata": {},
     "output_type": "execute_result"
    }
   ],
   "source": [
    "num_squares"
   ]
  },
  {
   "cell_type": "code",
   "execution_count": 94,
   "id": "b372bce7",
   "metadata": {},
   "outputs": [
    {
     "ename": "TypeError",
     "evalue": "'list' object is not callable",
     "output_type": "error",
     "traceback": [
      "\u001b[1;31m---------------------------------------------------------------------------\u001b[0m",
      "\u001b[1;31mTypeError\u001b[0m                                 Traceback (most recent call last)",
      "Cell \u001b[1;32mIn[94], line 1\u001b[0m\n\u001b[1;32m----> 1\u001b[0m \u001b[38;5;28;43mlist\u001b[39;49m\u001b[43m(\u001b[49m\u001b[38;5;28;43mrange\u001b[39;49m\u001b[43m(\u001b[49m\u001b[38;5;241;43m10\u001b[39;49m\u001b[43m)\u001b[49m\u001b[43m)\u001b[49m\n",
      "\u001b[1;31mTypeError\u001b[0m: 'list' object is not callable"
     ]
    }
   ],
   "source": [
    "list(range(10))"
   ]
  },
  {
   "cell_type": "code",
   "execution_count": 62,
   "id": "402892eb",
   "metadata": {},
   "outputs": [
    {
     "name": "stdout",
     "output_type": "stream",
     "text": [
      "d\n",
      "a\n",
      "t\n",
      "a\n",
      "s\n",
      "c\n",
      "i\n",
      "e\n",
      "n\n",
      "c\n",
      "e\n"
     ]
    }
   ],
   "source": [
    "for character in \"datascience\":\n",
    "    print(character)"
   ]
  },
  {
   "cell_type": "code",
   "execution_count": 64,
   "id": "58eeb73e",
   "metadata": {},
   "outputs": [],
   "source": [
    "characters = [character for character in \"datascience\"]"
   ]
  },
  {
   "cell_type": "code",
   "execution_count": 65,
   "id": "caf7fe80",
   "metadata": {},
   "outputs": [
    {
     "data": {
      "text/plain": [
       "[36, 9, 25, 16, 9, 4, 1]"
      ]
     },
     "execution_count": 65,
     "metadata": {},
     "output_type": "execute_result"
    }
   ],
   "source": [
    "num_squares"
   ]
  },
  {
   "cell_type": "code",
   "execution_count": 66,
   "id": "04ca784b",
   "metadata": {},
   "outputs": [],
   "source": [
    "num_squares.sort()"
   ]
  },
  {
   "cell_type": "code",
   "execution_count": 67,
   "id": "f2102905",
   "metadata": {},
   "outputs": [
    {
     "data": {
      "text/plain": [
       "[1, 4, 9, 9, 16, 25, 36]"
      ]
     },
     "execution_count": 67,
     "metadata": {},
     "output_type": "execute_result"
    }
   ],
   "source": [
    "num_squares"
   ]
  },
  {
   "cell_type": "code",
   "execution_count": 68,
   "id": "e72f52cf",
   "metadata": {},
   "outputs": [],
   "source": [
    "num_squares.sort(reverse=True)"
   ]
  },
  {
   "cell_type": "code",
   "execution_count": 69,
   "id": "e36be11e",
   "metadata": {},
   "outputs": [
    {
     "data": {
      "text/plain": [
       "[36, 25, 16, 9, 9, 4, 1]"
      ]
     },
     "execution_count": 69,
     "metadata": {},
     "output_type": "execute_result"
    }
   ],
   "source": [
    "num_squares"
   ]
  },
  {
   "cell_type": "code",
   "execution_count": 70,
   "id": "3bcc0598",
   "metadata": {},
   "outputs": [],
   "source": [
    "## Tuples"
   ]
  },
  {
   "cell_type": "code",
   "execution_count": 71,
   "id": "0297648d",
   "metadata": {},
   "outputs": [],
   "source": [
    "fruits = (\"apple\",\"banana\",\"watermelon\")"
   ]
  },
  {
   "cell_type": "code",
   "execution_count": 72,
   "id": "b22a0c03",
   "metadata": {},
   "outputs": [
    {
     "data": {
      "text/plain": [
       "tuple"
      ]
     },
     "execution_count": 72,
     "metadata": {},
     "output_type": "execute_result"
    }
   ],
   "source": [
    "type(fruits)"
   ]
  },
  {
   "cell_type": "code",
   "execution_count": 75,
   "id": "731395c3",
   "metadata": {},
   "outputs": [
    {
     "data": {
      "text/plain": [
       "'watermelon'"
      ]
     },
     "execution_count": 75,
     "metadata": {},
     "output_type": "execute_result"
    }
   ],
   "source": [
    "fruits[2]"
   ]
  },
  {
   "cell_type": "code",
   "execution_count": 76,
   "id": "f58080e3",
   "metadata": {},
   "outputs": [
    {
     "ename": "TypeError",
     "evalue": "'tuple' object does not support item assignment",
     "output_type": "error",
     "traceback": [
      "\u001b[1;31m---------------------------------------------------------------------------\u001b[0m",
      "\u001b[1;31mTypeError\u001b[0m                                 Traceback (most recent call last)",
      "Cell \u001b[1;32mIn[76], line 1\u001b[0m\n\u001b[1;32m----> 1\u001b[0m \u001b[43mfruits\u001b[49m\u001b[43m[\u001b[49m\u001b[38;5;241;43m2\u001b[39;49m\u001b[43m]\u001b[49m \u001b[38;5;241m=\u001b[39m \u001b[38;5;124m\"\u001b[39m\u001b[38;5;124mCherry\u001b[39m\u001b[38;5;124m\"\u001b[39m\n",
      "\u001b[1;31mTypeError\u001b[0m: 'tuple' object does not support item assignment"
     ]
    }
   ],
   "source": [
    "fruits[2] = \"Cherry\""
   ]
  },
  {
   "cell_type": "code",
   "execution_count": 77,
   "id": "aed6aa89",
   "metadata": {},
   "outputs": [],
   "source": [
    "# Unchangeable/Immutable"
   ]
  },
  {
   "cell_type": "code",
   "execution_count": 78,
   "id": "50fb56e8",
   "metadata": {},
   "outputs": [
    {
     "data": {
      "text/plain": [
       "3"
      ]
     },
     "execution_count": 78,
     "metadata": {},
     "output_type": "execute_result"
    }
   ],
   "source": [
    "len(fruits)"
   ]
  },
  {
   "cell_type": "code",
   "execution_count": 79,
   "id": "1ff0bfcf",
   "metadata": {},
   "outputs": [],
   "source": [
    "tuple_1 = (\"a\",1,True)"
   ]
  },
  {
   "cell_type": "code",
   "execution_count": 80,
   "id": "733f10d7",
   "metadata": {},
   "outputs": [
    {
     "data": {
      "text/plain": [
       "('a', 1, True)"
      ]
     },
     "execution_count": 80,
     "metadata": {},
     "output_type": "execute_result"
    }
   ],
   "source": [
    "tuple_1"
   ]
  },
  {
   "cell_type": "code",
   "execution_count": 81,
   "id": "60b711fc",
   "metadata": {},
   "outputs": [],
   "source": [
    "## Sets"
   ]
  },
  {
   "cell_type": "code",
   "execution_count": 82,
   "id": "7b7b99dd",
   "metadata": {},
   "outputs": [],
   "source": [
    "veggies = {\"carrot\",\"cucumber\",\"potato\"}"
   ]
  },
  {
   "cell_type": "code",
   "execution_count": 83,
   "id": "65d839b8",
   "metadata": {},
   "outputs": [
    {
     "data": {
      "text/plain": [
       "set"
      ]
     },
     "execution_count": 83,
     "metadata": {},
     "output_type": "execute_result"
    }
   ],
   "source": [
    "type(veggies)"
   ]
  },
  {
   "cell_type": "code",
   "execution_count": 84,
   "id": "30c99aea",
   "metadata": {},
   "outputs": [],
   "source": [
    "# Unchangeable\n",
    "# Does not allow duplicates"
   ]
  },
  {
   "cell_type": "code",
   "execution_count": 86,
   "id": "a3e3ed21",
   "metadata": {},
   "outputs": [],
   "source": [
    "mylist = [1,2,3,4,5,6,6,5,4,3,2,1]"
   ]
  },
  {
   "cell_type": "code",
   "execution_count": 87,
   "id": "48aebe83",
   "metadata": {},
   "outputs": [
    {
     "data": {
      "text/plain": [
       "[1, 2, 3, 4, 5, 6, 6, 5, 4, 3, 2, 1]"
      ]
     },
     "execution_count": 87,
     "metadata": {},
     "output_type": "execute_result"
    }
   ],
   "source": [
    "mylist"
   ]
  },
  {
   "cell_type": "code",
   "execution_count": 88,
   "id": "7f42ec7e",
   "metadata": {},
   "outputs": [
    {
     "data": {
      "text/plain": [
       "{1, 2, 3, 4, 5, 6}"
      ]
     },
     "execution_count": 88,
     "metadata": {},
     "output_type": "execute_result"
    }
   ],
   "source": [
    "set(mylist)"
   ]
  },
  {
   "cell_type": "code",
   "execution_count": 93,
   "id": "efd02244",
   "metadata": {},
   "outputs": [
    {
     "ename": "TypeError",
     "evalue": "'list' object is not callable",
     "output_type": "error",
     "traceback": [
      "\u001b[1;31m---------------------------------------------------------------------------\u001b[0m",
      "\u001b[1;31mTypeError\u001b[0m                                 Traceback (most recent call last)",
      "Cell \u001b[1;32mIn[93], line 1\u001b[0m\n\u001b[1;32m----> 1\u001b[0m \u001b[38;5;28;43mlist\u001b[39;49m\u001b[43m(\u001b[49m\u001b[38;5;28;43mrange\u001b[39;49m\u001b[43m(\u001b[49m\u001b[38;5;241;43m99\u001b[39;49m\u001b[43m)\u001b[49m\u001b[43m)\u001b[49m\n",
      "\u001b[1;31mTypeError\u001b[0m: 'list' object is not callable"
     ]
    }
   ],
   "source": [
    "list(range(99))"
   ]
  },
  {
   "cell_type": "code",
   "execution_count": null,
   "id": "85d4ec56",
   "metadata": {},
   "outputs": [],
   "source": []
  }
 ],
 "metadata": {
  "kernelspec": {
   "display_name": "Python 3 (ipykernel)",
   "language": "python",
   "name": "python3"
  },
  "language_info": {
   "codemirror_mode": {
    "name": "ipython",
    "version": 3
   },
   "file_extension": ".py",
   "mimetype": "text/x-python",
   "name": "python",
   "nbconvert_exporter": "python",
   "pygments_lexer": "ipython3",
   "version": "3.10.8"
  }
 },
 "nbformat": 4,
 "nbformat_minor": 5
}
