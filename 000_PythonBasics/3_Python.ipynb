{
 "cells": [
  {
   "cell_type": "markdown",
   "id": "d1fb259b",
   "metadata": {},
   "source": [
    "### Creating a Function"
   ]
  },
  {
   "cell_type": "code",
   "execution_count": 1,
   "id": "2ce902e2",
   "metadata": {},
   "outputs": [],
   "source": [
    "def my_function():\n",
    "    print(\"Hi Guys!!\")"
   ]
  },
  {
   "cell_type": "code",
   "execution_count": 2,
   "id": "eded089e",
   "metadata": {},
   "outputs": [
    {
     "name": "stdout",
     "output_type": "stream",
     "text": [
      "Hi Guys!!\n"
     ]
    }
   ],
   "source": [
    "my_function()"
   ]
  },
  {
   "cell_type": "code",
   "execution_count": 3,
   "id": "e3419666",
   "metadata": {},
   "outputs": [],
   "source": [
    "def return_my_function():\n",
    "    return \"Hi Guys\""
   ]
  },
  {
   "cell_type": "code",
   "execution_count": 4,
   "id": "ef72f8db",
   "metadata": {},
   "outputs": [
    {
     "data": {
      "text/plain": [
       "'Hi Guys'"
      ]
     },
     "execution_count": 4,
     "metadata": {},
     "output_type": "execute_result"
    }
   ],
   "source": [
    "return_my_function()"
   ]
  },
  {
   "cell_type": "code",
   "execution_count": 5,
   "id": "bd084973",
   "metadata": {},
   "outputs": [
    {
     "name": "stdout",
     "output_type": "stream",
     "text": [
      "Hi Guys!!\n"
     ]
    }
   ],
   "source": [
    "my_string = my_function()"
   ]
  },
  {
   "cell_type": "code",
   "execution_count": 6,
   "id": "c5145624",
   "metadata": {},
   "outputs": [],
   "source": [
    "my_string"
   ]
  },
  {
   "cell_type": "code",
   "execution_count": 7,
   "id": "dda0ca03",
   "metadata": {},
   "outputs": [],
   "source": [
    "my_return_string = return_my_function()"
   ]
  },
  {
   "cell_type": "code",
   "execution_count": 8,
   "id": "4f3c97bd",
   "metadata": {},
   "outputs": [
    {
     "data": {
      "text/plain": [
       "'Hi Guys'"
      ]
     },
     "execution_count": 8,
     "metadata": {},
     "output_type": "execute_result"
    }
   ],
   "source": [
    "my_return_string"
   ]
  },
  {
   "cell_type": "markdown",
   "id": "2b7137c0",
   "metadata": {},
   "source": [
    "### Argunments with Function"
   ]
  },
  {
   "cell_type": "code",
   "execution_count": 9,
   "id": "c75b2b5f",
   "metadata": {},
   "outputs": [],
   "source": [
    "def ticket(age):\n",
    "    if age<12:\n",
    "        return 10\n",
    "    else:\n",
    "        return 20"
   ]
  },
  {
   "cell_type": "code",
   "execution_count": 10,
   "id": "2049afc4",
   "metadata": {},
   "outputs": [
    {
     "data": {
      "text/plain": [
       "20"
      ]
     },
     "execution_count": 10,
     "metadata": {},
     "output_type": "execute_result"
    }
   ],
   "source": [
    "ticket(30)"
   ]
  },
  {
   "cell_type": "code",
   "execution_count": 11,
   "id": "c36a241b",
   "metadata": {},
   "outputs": [
    {
     "data": {
      "text/plain": [
       "10"
      ]
     },
     "execution_count": 11,
     "metadata": {},
     "output_type": "execute_result"
    }
   ],
   "source": [
    "ticket(10)"
   ]
  },
  {
   "cell_type": "code",
   "execution_count": 12,
   "id": "76e226b3",
   "metadata": {},
   "outputs": [],
   "source": [
    "def ticket_2(age):\n",
    "    if age<12:\n",
    "        return 10\n",
    "    return 20"
   ]
  },
  {
   "cell_type": "code",
   "execution_count": 13,
   "id": "1598ee73",
   "metadata": {},
   "outputs": [
    {
     "data": {
      "text/plain": [
       "20"
      ]
     },
     "execution_count": 13,
     "metadata": {},
     "output_type": "execute_result"
    }
   ],
   "source": [
    "ticket_2(30)"
   ]
  },
  {
   "cell_type": "code",
   "execution_count": 14,
   "id": "243ca15a",
   "metadata": {},
   "outputs": [
    {
     "data": {
      "text/plain": [
       "10"
      ]
     },
     "execution_count": 14,
     "metadata": {},
     "output_type": "execute_result"
    }
   ],
   "source": [
    "ticket_2(10)"
   ]
  },
  {
   "cell_type": "markdown",
   "id": "4e6ce717",
   "metadata": {},
   "source": [
    "### Multiple Arguments"
   ]
  },
  {
   "cell_type": "code",
   "execution_count": 15,
   "id": "cf34dd5f",
   "metadata": {},
   "outputs": [],
   "source": [
    "def fullname(fname, lname):\n",
    "    return fname+lname"
   ]
  },
  {
   "cell_type": "code",
   "execution_count": 16,
   "id": "63507ed5",
   "metadata": {},
   "outputs": [
    {
     "data": {
      "text/plain": [
       "'JoeBiden'"
      ]
     },
     "execution_count": 16,
     "metadata": {},
     "output_type": "execute_result"
    }
   ],
   "source": [
    "fullname(\"Joe\",\"Biden\")"
   ]
  },
  {
   "cell_type": "markdown",
   "id": "f6d486bd",
   "metadata": {},
   "source": [
    "### Args"
   ]
  },
  {
   "cell_type": "code",
   "execution_count": 24,
   "id": "0631ce69",
   "metadata": {},
   "outputs": [],
   "source": [
    "def nkids(*kids):\n",
    "    print(\"Name of the last child:\", kids[-1])"
   ]
  },
  {
   "cell_type": "code",
   "execution_count": 25,
   "id": "bbd0c827",
   "metadata": {},
   "outputs": [
    {
     "name": "stdout",
     "output_type": "stream",
     "text": [
      "Name of the last child: D\n"
     ]
    }
   ],
   "source": [
    "nkids(\"A\",\"B\",\"C\",\"D\")"
   ]
  },
  {
   "cell_type": "code",
   "execution_count": 27,
   "id": "11687d28",
   "metadata": {},
   "outputs": [
    {
     "name": "stdout",
     "output_type": "stream",
     "text": [
      "Name of the last child: C\n"
     ]
    }
   ],
   "source": [
    "nkids(\"A\",\"B\",\"C\")"
   ]
  },
  {
   "cell_type": "code",
   "execution_count": 21,
   "id": "c469f50d",
   "metadata": {},
   "outputs": [
    {
     "ename": "TypeError",
     "evalue": "fullname() missing 1 required positional argument: 'lname'",
     "output_type": "error",
     "traceback": [
      "\u001b[1;31m---------------------------------------------------------------------------\u001b[0m",
      "\u001b[1;31mTypeError\u001b[0m                                 Traceback (most recent call last)",
      "Cell \u001b[1;32mIn[21], line 2\u001b[0m\n\u001b[0;32m      1\u001b[0m \u001b[38;5;66;03m# Without args\u001b[39;00m\n\u001b[1;32m----> 2\u001b[0m \u001b[43mfullname\u001b[49m\u001b[43m(\u001b[49m\u001b[38;5;124;43m\"\u001b[39;49m\u001b[38;5;124;43mTrump\u001b[39;49m\u001b[38;5;124;43m\"\u001b[39;49m\u001b[43m)\u001b[49m\n",
      "\u001b[1;31mTypeError\u001b[0m: fullname() missing 1 required positional argument: 'lname'"
     ]
    }
   ],
   "source": [
    "# Without args\n",
    "fullname(\"Trump\")"
   ]
  },
  {
   "cell_type": "markdown",
   "id": "c1d8bf1f",
   "metadata": {},
   "source": [
    "### Kwargs"
   ]
  },
  {
   "cell_type": "code",
   "execution_count": 28,
   "id": "b1b8f3a9",
   "metadata": {},
   "outputs": [
    {
     "data": {
      "text/plain": [
       "'ShahAmit'"
      ]
     },
     "execution_count": 28,
     "metadata": {},
     "output_type": "execute_result"
    }
   ],
   "source": [
    "fullname(lname=\"Amit\", fname=\"Shah\")"
   ]
  },
  {
   "cell_type": "code",
   "execution_count": 29,
   "id": "9c68966e",
   "metadata": {},
   "outputs": [
    {
     "ename": "SyntaxError",
     "evalue": "positional argument follows keyword argument (2493940659.py, line 1)",
     "output_type": "error",
     "traceback": [
      "\u001b[1;36m  Cell \u001b[1;32mIn[29], line 1\u001b[1;36m\u001b[0m\n\u001b[1;33m    fullname(lname=\"Amit\", \"Shah\")\u001b[0m\n\u001b[1;37m                                 ^\u001b[0m\n\u001b[1;31mSyntaxError\u001b[0m\u001b[1;31m:\u001b[0m positional argument follows keyword argument\n"
     ]
    }
   ],
   "source": [
    "fullname(lname=\"Amit\", \"Shah\")"
   ]
  },
  {
   "cell_type": "code",
   "execution_count": 30,
   "id": "9044e859",
   "metadata": {},
   "outputs": [
    {
     "data": {
      "text/plain": [
       "'ShahAmit'"
      ]
     },
     "execution_count": 30,
     "metadata": {},
     "output_type": "execute_result"
    }
   ],
   "source": [
    "fullname(\"Shah\", lname=\"Amit\")"
   ]
  },
  {
   "cell_type": "code",
   "execution_count": 31,
   "id": "23ce00d9",
   "metadata": {},
   "outputs": [],
   "source": [
    "def childs(child3, child2, child1):\n",
    "    print(\"The youngest child: \"+ child3)"
   ]
  },
  {
   "cell_type": "code",
   "execution_count": 32,
   "id": "6a677e4d",
   "metadata": {},
   "outputs": [
    {
     "name": "stdout",
     "output_type": "stream",
     "text": [
      "The youngest child: C\n"
     ]
    }
   ],
   "source": [
    "childs(child1=\"A\",child2=\"B\", child3=\"C\")"
   ]
  },
  {
   "cell_type": "code",
   "execution_count": 33,
   "id": "d4075401",
   "metadata": {},
   "outputs": [],
   "source": [
    "def children(**child):\n",
    "    print(\"last name of the kid: \"+ child[\"lname\"])"
   ]
  },
  {
   "cell_type": "code",
   "execution_count": 34,
   "id": "210ef7e1",
   "metadata": {},
   "outputs": [
    {
     "name": "stdout",
     "output_type": "stream",
     "text": [
      "last name of the kid: Jordan\n"
     ]
    }
   ],
   "source": [
    "children(fname=\"Toby\", lname=\"Jordan\", mname=\"Harish\")"
   ]
  },
  {
   "cell_type": "markdown",
   "id": "99ac8200",
   "metadata": {},
   "source": [
    "### Modules"
   ]
  },
  {
   "cell_type": "code",
   "execution_count": null,
   "id": "d58c4124",
   "metadata": {},
   "outputs": [],
   "source": [
    "def feesByMarks():\n",
    "    pass\n",
    "\n",
    "def feesDiscount():\n",
    "    pass\n",
    "\n",
    "def classRoom():\n",
    "    pass"
   ]
  },
  {
   "cell_type": "code",
   "execution_count": 35,
   "id": "65356347",
   "metadata": {},
   "outputs": [],
   "source": [
    "import college"
   ]
  },
  {
   "cell_type": "code",
   "execution_count": 36,
   "id": "4adf2f0f",
   "metadata": {},
   "outputs": [
    {
     "name": "stdout",
     "output_type": "stream",
     "text": [
      "I am Discount\n"
     ]
    }
   ],
   "source": [
    "college.feesDiscount()"
   ]
  },
  {
   "cell_type": "markdown",
   "id": "ac630f9e",
   "metadata": {},
   "source": [
    "### Try Except Block (Exceptions)"
   ]
  },
  {
   "cell_type": "code",
   "execution_count": 37,
   "id": "3020cfbe",
   "metadata": {},
   "outputs": [],
   "source": [
    "def divider(numerator, denominator):\n",
    "    return numerator/denominator"
   ]
  },
  {
   "cell_type": "code",
   "execution_count": 38,
   "id": "902c0767",
   "metadata": {},
   "outputs": [
    {
     "data": {
      "text/plain": [
       "5.0"
      ]
     },
     "execution_count": 38,
     "metadata": {},
     "output_type": "execute_result"
    }
   ],
   "source": [
    "divider(10,2)"
   ]
  },
  {
   "cell_type": "code",
   "execution_count": 40,
   "id": "1abe96ba",
   "metadata": {},
   "outputs": [
    {
     "data": {
      "text/plain": [
       "50.0"
      ]
     },
     "execution_count": 40,
     "metadata": {},
     "output_type": "execute_result"
    }
   ],
   "source": [
    "divider(100,2)"
   ]
  },
  {
   "cell_type": "code",
   "execution_count": 41,
   "id": "f4f48a97",
   "metadata": {},
   "outputs": [
    {
     "ename": "ZeroDivisionError",
     "evalue": "division by zero",
     "output_type": "error",
     "traceback": [
      "\u001b[1;31m---------------------------------------------------------------------------\u001b[0m",
      "\u001b[1;31mZeroDivisionError\u001b[0m                         Traceback (most recent call last)",
      "Cell \u001b[1;32mIn[41], line 1\u001b[0m\n\u001b[1;32m----> 1\u001b[0m \u001b[43mdivider\u001b[49m\u001b[43m(\u001b[49m\u001b[38;5;241;43m10\u001b[39;49m\u001b[43m,\u001b[49m\u001b[38;5;241;43m0\u001b[39;49m\u001b[43m)\u001b[49m\n",
      "Cell \u001b[1;32mIn[37], line 2\u001b[0m, in \u001b[0;36mdivider\u001b[1;34m(numerator, denominator)\u001b[0m\n\u001b[0;32m      1\u001b[0m \u001b[38;5;28;01mdef\u001b[39;00m \u001b[38;5;21mdivider\u001b[39m(numerator, denominator):\n\u001b[1;32m----> 2\u001b[0m     \u001b[38;5;28;01mreturn\u001b[39;00m \u001b[43mnumerator\u001b[49m\u001b[38;5;241;43m/\u001b[39;49m\u001b[43mdenominator\u001b[49m\n",
      "\u001b[1;31mZeroDivisionError\u001b[0m: division by zero"
     ]
    }
   ],
   "source": [
    "divider(10,0)"
   ]
  },
  {
   "cell_type": "code",
   "execution_count": 50,
   "id": "66582a08",
   "metadata": {},
   "outputs": [],
   "source": [
    "def divider_if(numerator, denominator):\n",
    "    if denominator == 0:\n",
    "        return \"NA\"\n",
    "    return numerator/denominator"
   ]
  },
  {
   "cell_type": "code",
   "execution_count": 52,
   "id": "5e6acbf9",
   "metadata": {},
   "outputs": [
    {
     "data": {
      "text/plain": [
       "'NA'"
      ]
     },
     "execution_count": 52,
     "metadata": {},
     "output_type": "execute_result"
    }
   ],
   "source": [
    "divider_if(10,0)"
   ]
  },
  {
   "cell_type": "code",
   "execution_count": null,
   "id": "305e6877",
   "metadata": {},
   "outputs": [],
   "source": []
  },
  {
   "cell_type": "code",
   "execution_count": 48,
   "id": "de260019",
   "metadata": {},
   "outputs": [],
   "source": [
    "def divider(numerator, denominator):\n",
    "    return numerator/denominator"
   ]
  },
  {
   "cell_type": "code",
   "execution_count": 59,
   "id": "46a39655",
   "metadata": {},
   "outputs": [
    {
     "name": "stdout",
     "output_type": "stream",
     "text": [
      "1000\n",
      "0\n",
      "Cannot divide it by Zero, Please try some other Value\n"
     ]
    }
   ],
   "source": [
    "numerator = int(input()) #ask values from user\n",
    "denominator = int(input())\n",
    "try:\n",
    "    print(divider(numerator, denominator))\n",
    "except Exception as e:\n",
    "    print(\"Cannot divide it by Zero, Please try some other Value\")"
   ]
  },
  {
   "cell_type": "markdown",
   "id": "ee2b254f",
   "metadata": {},
   "source": [
    "### List Functions"
   ]
  },
  {
   "cell_type": "code",
   "execution_count": null,
   "id": "023c024d",
   "metadata": {},
   "outputs": [],
   "source": []
  }
 ],
 "metadata": {
  "kernelspec": {
   "display_name": "Python 3 (ipykernel)",
   "language": "python",
   "name": "python3"
  },
  "language_info": {
   "codemirror_mode": {
    "name": "ipython",
    "version": 3
   },
   "file_extension": ".py",
   "mimetype": "text/x-python",
   "name": "python",
   "nbconvert_exporter": "python",
   "pygments_lexer": "ipython3",
   "version": "3.10.8"
  }
 },
 "nbformat": 4,
 "nbformat_minor": 5
}
